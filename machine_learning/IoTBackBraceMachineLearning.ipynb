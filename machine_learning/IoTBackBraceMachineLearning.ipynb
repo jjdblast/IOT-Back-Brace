{
 "cells": [
  {
   "cell_type": "markdown",
   "metadata": {},
   "source": [
    "# Spark & Python: MLlib Decision Trees"
   ]
  },
  {
   "cell_type": "code",
   "execution_count": 3,
   "metadata": {
    "collapsed": false
   },
   "outputs": [],
   "source": [
    "import pyspark\n",
    "from pyspark import SparkContext\n",
    "import urllib\n",
    "from pyspark.mllib.regression import LabeledPoint\n",
    "from numpy import array\n",
    "from pyspark.mllib.tree import RandomForest, RandomForestModel\n",
    "from pyspark.sql import SQLContext\n",
    "from time import time\n",
    "#  Custom imports\n",
    "import MySQLConnection\n"
   ]
  },
  {
   "cell_type": "markdown",
   "metadata": {},
   "source": [
    "## Getting the training data and creating the RDD"
   ]
  },
  {
   "cell_type": "code",
   "execution_count": 6,
   "metadata": {
    "collapsed": false
   },
   "outputs": [
    {
     "name": "stdout",
     "output_type": "stream",
     "text": [
      "Train data size is 505\n"
     ]
    }
   ],
   "source": [
    "sqlContext = SQLContext(sc)\n",
    "#  Get username and password from file in this format: {\"user\":\"yourusername\",\"password\":\"yourpassword\"}\n",
    "connectionProperties = MySQLConnection.getDBConnectionProps('/home/erik/mysql_credentials.txt')\n",
    "# Get training data from the database...biosensor database and SensorTrainingReadings table\n",
    "data = sqlContext.read.jdbc(\"jdbc:mysql://localhost/biosensor\", \"SensorTrainingReadings\", properties=connectionProperties).selectExpr(\"deviceID\",\"metricTypeID\",\"uomID\",\"positionID\",\"actualPitch\", \"actualYaw\")\n",
    "print \"Train data size is {}\".format(data.count())"
   ]
  },
  {
   "cell_type": "markdown",
   "metadata": {},
   "source": [
    "## Split training data into training set and test set\n"
   ]
  },
  {
   "cell_type": "code",
   "execution_count": 8,
   "metadata": {
    "collapsed": false
   },
   "outputs": [
    {
     "name": "stdout",
     "output_type": "stream",
     "text": [
      "+--------------------+------------+-----+----------+-----------+---------+\n",
      "|            deviceID|metricTypeID|uomID|positionID|actualPitch|actualYaw|\n",
      "+--------------------+------------+-----+----------+-----------+---------+\n",
      "|5d681c54e66ff4a56...|           6|    4|         0|   -14.8309|     18.0|\n",
      "|5d681c54e66ff4a56...|           6|    4|         0|   -14.6938|     18.0|\n",
      "|5d681c54e66ff4a56...|           6|    4|         0|   -14.3637|     18.0|\n",
      "|5d681c54e66ff4a56...|           6|    4|         0|   -14.2678|     18.0|\n",
      "|5d681c54e66ff4a56...|           6|    4|         0|   -13.8651|     18.0|\n",
      "|5d681c54e66ff4a56...|           6|    4|         0|   -13.8577|     18.0|\n",
      "|5d681c54e66ff4a56...|           6|    4|         0|   -13.8351|     18.0|\n",
      "|5d681c54e66ff4a56...|           6|    4|         0|   -13.4711|     18.0|\n",
      "|5d681c54e66ff4a56...|           6|    4|         0|   -13.4314|     18.0|\n",
      "|5d681c54e66ff4a56...|           6|    4|         0|   -13.3352|     18.0|\n",
      "|5d681c54e66ff4a56...|           6|    4|         0|   -12.9167|     18.0|\n",
      "|5d681c54e66ff4a56...|           6|    4|         0|   -12.8987|     18.0|\n",
      "|5d681c54e66ff4a56...|           6|    4|         0|   -12.7699|     18.0|\n",
      "|5d681c54e66ff4a56...|           6|    4|         0|   -12.6744|     18.0|\n",
      "|5d681c54e66ff4a56...|           6|    4|         0|   -12.3885|     18.0|\n",
      "|5d681c54e66ff4a56...|           6|    4|         0|   -12.1669|     18.0|\n",
      "|5d681c54e66ff4a56...|           6|    4|         0|   -12.0495|     18.0|\n",
      "|5d681c54e66ff4a56...|           6|    4|         0|   -11.6795|     18.0|\n",
      "|5d681c54e66ff4a56...|           6|    4|         0|   -11.6705|     18.0|\n",
      "|5d681c54e66ff4a56...|           6|    4|         0|   -11.5656|     18.0|\n",
      "+--------------------+------------+-----+----------+-----------+---------+\n",
      "only showing top 20 rows\n",
      "\n",
      "+--------------------+------------+-----+----------+-----------+---------+\n",
      "|            deviceID|metricTypeID|uomID|positionID|actualPitch|actualYaw|\n",
      "+--------------------+------------+-----+----------+-----------+---------+\n",
      "|5d681c54e66ff4a56...|           6|    4|         0|   -14.8926|     18.0|\n",
      "|5d681c54e66ff4a56...|           6|    4|         0|   -14.6283|     18.0|\n",
      "|5d681c54e66ff4a56...|           6|    4|         0|   -14.5705|     18.0|\n",
      "|5d681c54e66ff4a56...|           6|    4|         0|   -14.5652|     18.0|\n",
      "|5d681c54e66ff4a56...|           6|    4|         0|   -13.2414|     18.0|\n",
      "|5d681c54e66ff4a56...|           6|    4|         0|   -11.6807|     18.0|\n",
      "|5d681c54e66ff4a56...|           6|    4|         0|   -11.5898|     18.0|\n",
      "|5d681c54e66ff4a56...|           6|    4|         0|   -11.0529|     18.0|\n",
      "|5d681c54e66ff4a56...|           6|    4|         0|   -9.85173|     18.0|\n",
      "|5d681c54e66ff4a56...|           6|    4|         0|   -9.13766|     18.0|\n",
      "|5d681c54e66ff4a56...|           6|    4|         0|   -9.02766|     18.0|\n",
      "|5d681c54e66ff4a56...|           6|    4|         0|   -8.21306|     18.0|\n",
      "|5d681c54e66ff4a56...|           6|    4|         0|   -6.93853|     18.0|\n",
      "|5d681c54e66ff4a56...|           6|    4|         0|   -5.21876|     18.0|\n",
      "|5d681c54e66ff4a56...|           6|    4|         0|   -4.93081|     18.0|\n",
      "|5d681c54e66ff4a56...|           6|    4|         0|   -4.79149|     18.0|\n",
      "|5d681c54e66ff4a56...|           6|    4|         0|   -4.43691|     18.0|\n",
      "|5d681c54e66ff4a56...|           6|    4|         0|   -2.07478|     18.0|\n",
      "|5d681c54e66ff4a56...|           6|    4|         0|   -1.89785|     18.0|\n",
      "|5d681c54e66ff4a56...|           6|    4|         0|   -1.82592|     18.0|\n",
      "+--------------------+------------+-----+----------+-----------+---------+\n",
      "only showing top 20 rows\n",
      "\n"
     ]
    }
   ],
   "source": [
    "# Split data into training and test dataasets\n",
    "(trainingDataTable, testDataTable) = data.randomSplit([0.7, 0.3])\n",
    "\n",
    "trainingDataTable.show()\n",
    "testDataTable.show()\n"
   ]
  },
  {
   "cell_type": "markdown",
   "metadata": {},
   "source": [
    "## Create an RDD of LabeledPoints\n",
    "The featurize method returns a LabeledPoint with the label and an vector array of features.  \n",
    "\n",
    "An example for a reading from the stooped position would be:\n",
    "*  0, [-40,15]"
   ]
  },
  {
   "cell_type": "code",
   "execution_count": 19,
   "metadata": {
    "collapsed": false
   },
   "outputs": [],
   "source": [
    "# The model requires labeldPoints which is a row with label and a vector of features.\n",
    "def featurize(t):\n",
    "\treturn LabeledPoint(t.positionID, [t.actualPitch, t.actualYaw])\n",
    "\n",
    "trainingData = trainingDataTable.map(featurize)"
   ]
  },
  {
   "cell_type": "markdown",
   "metadata": {},
   "source": [
    "## Training the model\n",
    "For this example we are choosing a Random Forest model wich is multiple decision trees averaged together.  In this case since we know there will only be 3 distinct values of \"labels\", numClasses = 3. "
   ]
  },
  {
   "cell_type": "code",
   "execution_count": 24,
   "metadata": {
    "collapsed": false
   },
   "outputs": [
    {
     "name": "stdout",
     "output_type": "stream",
     "text": [
      "Classifier trained in 1.045 seconds\n"
     ]
    }
   ],
   "source": [
    "# Train the classifier/Build the model\n",
    "startTime = time()\n",
    "\n",
    "#Random Forest Model\n",
    "model = RandomForest.trainClassifier(\n",
    "                                    trainingData, \n",
    "                                    numClasses=3, \n",
    "                                    categoricalFeaturesInfo={},\n",
    "                                    numTrees=6, \n",
    "                                    featureSubsetStrategy=\"auto\",\n",
    "                                    impurity='gini', \n",
    "                                    maxDepth=4, \n",
    "                                    maxBins=32\n",
    "                                    )\n",
    "\n",
    "elapsedTime = time() - startTime\n",
    "\n",
    "print \"Classifier trained in {} seconds\".format(round(elapsedTime,3))\n",
    "\n",
    "# Save the madel for use in evaluating readings\n",
    "model.save(sc,\"models/IoTBackBraceRandomForest.model\")"
   ]
  },
  {
   "cell_type": "markdown",
   "metadata": {},
   "source": [
    "## Evaluating the accuracy of the model\n",
    "Since we use 70% of the training data for actually training the model, we have the remaining 30% that we can use as a test dataset.  Since these values are still known, we can see if the model does a good job of classifying. "
   ]
  },
  {
   "cell_type": "code",
   "execution_count": 34,
   "metadata": {
    "collapsed": false
   },
   "outputs": [
    {
     "name": "stdout",
     "output_type": "stream",
     "text": [
      "Test Error = 0.0208333333333\n"
     ]
    }
   ],
   "source": [
    "# Evaluate model on test instances and compute test error\n",
    "testData = testDataTable.map(featurize)\n",
    "predictions = model.predict(testData.map(lambda x: x.features))\n",
    "labelsAndPredictions = testData.map(lambda lp: lp.label).zip(predictions)\n",
    "testErr = labelsAndPredictions.filter(lambda (v, p): v != p).count() / float(testData.count())\n",
    "print('Test Error = ' + str(testErr))"
   ]
  },
  {
   "cell_type": "markdown",
   "metadata": {},
   "source": [
    "Another handy feature is that you can view the model logic tree by using the \"toDebugString()\" method"
   ]
  },
  {
   "cell_type": "code",
   "execution_count": 33,
   "metadata": {
    "collapsed": false
   },
   "outputs": [
    {
     "name": "stdout",
     "output_type": "stream",
     "text": [
      "Random Forest Classifcation Model:\n",
      "TreeEnsembleModel classifier with 6 trees\n",
      "\n",
      "  Tree 0:\n",
      "    If (feature 0 <= -14.6938)\n",
      "     If (feature 0 <= -26.1529)\n",
      "      Predict: 2.0\n",
      "     Else (feature 0 > -26.1529)\n",
      "      If (feature 0 <= -24.0257)\n",
      "       Predict: 1.0\n",
      "      Else (feature 0 > -24.0257)\n",
      "       Predict: 1.0\n",
      "    Else (feature 0 > -14.6938)\n",
      "     Predict: 0.0\n",
      "  Tree 1:\n",
      "    If (feature 0 <= -14.6938)\n",
      "     If (feature 0 <= -26.1529)\n",
      "      Predict: 2.0\n",
      "     Else (feature 0 > -26.1529)\n",
      "      If (feature 0 <= -24.0257)\n",
      "       Predict: 1.0\n",
      "      Else (feature 0 > -24.0257)\n",
      "       If (feature 0 <= -19.0393)\n",
      "        Predict: 1.0\n",
      "       Else (feature 0 > -19.0393)\n",
      "        Predict: 1.0\n",
      "    Else (feature 0 > -14.6938)\n",
      "     Predict: 0.0\n",
      "  Tree 2:\n",
      "    If (feature 0 <= -14.6938)\n",
      "     If (feature 0 <= -24.0257)\n",
      "      If (feature 0 <= -26.1529)\n",
      "       Predict: 2.0\n",
      "      Else (feature 0 > -26.1529)\n",
      "       Predict: 2.0\n",
      "     Else (feature 0 > -24.0257)\n",
      "      If (feature 0 <= -19.0393)\n",
      "       Predict: 1.0\n",
      "      Else (feature 0 > -19.0393)\n",
      "       Predict: 1.0\n",
      "    Else (feature 0 > -14.6938)\n",
      "     Predict: 0.0\n",
      "  Tree 3:\n",
      "    If (feature 0 <= -14.6938)\n",
      "     If (feature 0 <= -26.1529)\n",
      "      Predict: 2.0\n",
      "     Else (feature 0 > -26.1529)\n",
      "      If (feature 0 <= -24.0257)\n",
      "       Predict: 1.0\n",
      "      Else (feature 0 > -24.0257)\n",
      "       If (feature 0 <= -19.0393)\n",
      "        Predict: 1.0\n",
      "       Else (feature 0 > -19.0393)\n",
      "        Predict: 1.0\n",
      "    Else (feature 0 > -14.6938)\n",
      "     Predict: 0.0\n",
      "  Tree 4:\n",
      "    If (feature 0 <= -14.6938)\n",
      "     If (feature 0 <= -26.1529)\n",
      "      Predict: 2.0\n",
      "     Else (feature 0 > -26.1529)\n",
      "      If (feature 0 <= -24.0257)\n",
      "       Predict: 1.0\n",
      "      Else (feature 0 > -24.0257)\n",
      "       If (feature 0 <= -19.0393)\n",
      "        Predict: 1.0\n",
      "       Else (feature 0 > -19.0393)\n",
      "        Predict: 1.0\n",
      "    Else (feature 0 > -14.6938)\n",
      "     Predict: 0.0\n",
      "  Tree 5:\n",
      "    If (feature 0 <= -19.0393)\n",
      "     If (feature 0 <= -24.0257)\n",
      "      If (feature 0 <= -26.1529)\n",
      "       Predict: 2.0\n",
      "      Else (feature 0 > -26.1529)\n",
      "       Predict: 2.0\n",
      "     Else (feature 0 > -24.0257)\n",
      "      Predict: 1.0\n",
      "    Else (feature 0 > -19.0393)\n",
      "     If (feature 0 <= -14.6938)\n",
      "      Predict: 1.0\n",
      "     Else (feature 0 > -14.6938)\n",
      "      Predict: 0.0\n",
      "\n"
     ]
    }
   ],
   "source": [
    "print('Random Forest Classifcation Model:')\n",
    "print(model.toDebugString())"
   ]
  },
  {
   "cell_type": "markdown",
   "metadata": {},
   "source": [
    "## Using the model for analysis of raw data\n",
    "Once the model is saved, it can be loaded again in any script by referring to the path where it was saved."
   ]
  },
  {
   "cell_type": "code",
   "execution_count": 26,
   "metadata": {
    "collapsed": false
   },
   "outputs": [],
   "source": [
    "loadedModel = RandomForestModel.load(sc, \"models/IoTBackBraceRandomForest.model\")"
   ]
  },
  {
   "cell_type": "markdown",
   "metadata": {},
   "source": [
    "The example below passes a value to the model from a range of -50 degrees (stooped) to +10 degrees (standing)."
   ]
  },
  {
   "cell_type": "code",
   "execution_count": 29,
   "metadata": {
    "collapsed": false
   },
   "outputs": [
    {
     "name": "stdout",
     "output_type": "stream",
     "text": [
      "-50 => stooped\n",
      "-49 => stooped\n",
      "-48 => stooped\n",
      "-47 => stooped\n",
      "-46 => stooped\n",
      "-45 => stooped\n",
      "-44 => stooped\n",
      "-43 => stooped\n",
      "-42 => stooped\n",
      "-41 => stooped\n",
      "-40 => stooped\n",
      "-39 => stooped\n",
      "-38 => stooped\n",
      "-37 => stooped\n",
      "-36 => stooped\n",
      "-35 => stooped\n",
      "-34 => stooped\n",
      "-33 => stooped\n",
      "-32 => stooped\n",
      "-31 => stooped\n",
      "-30 => stooped\n",
      "-29 => stooped\n",
      "-28 => stooped\n",
      "-27 => stooped\n",
      "-26 => back bent\n",
      "-25 => back bent\n",
      "-24 => back bent\n",
      "-23 => back bent\n",
      "-22 => back bent\n",
      "-21 => back bent\n",
      "-20 => back bent\n",
      "-19 => back bent\n",
      "-18 => back bent\n",
      "-17 => back bent\n",
      "-16 => back bent\n",
      "-15 => back bent\n",
      "-14 => upright\n",
      "-13 => upright\n",
      "-12 => upright\n",
      "-11 => upright\n",
      "-10 => upright\n",
      "-9 => upright\n",
      "-8 => upright\n",
      "-7 => upright\n",
      "-6 => upright\n",
      "-5 => upright\n",
      "-4 => upright\n",
      "-3 => upright\n",
      "-2 => upright\n",
      "-1 => upright\n",
      "0 => upright\n",
      "1 => upright\n",
      "2 => upright\n",
      "3 => upright\n",
      "4 => upright\n",
      "5 => upright\n",
      "6 => upright\n",
      "7 => upright\n",
      "8 => upright\n",
      "9 => upright\n"
     ]
    }
   ],
   "source": [
    "for i in range(-50,10):\n",
    "    prediction = loadedModel.predict([i])\n",
    "    positions = {\n",
    "                  0 : \"upright\",\n",
    "                  1 : \"back bent\",\n",
    "                  2 : \"stooped\"\n",
    "                }\n",
    "    print str(i) + \" => \" + str(positions[prediction])"
   ]
  },
  {
   "cell_type": "code",
   "execution_count": null,
   "metadata": {
    "collapsed": true
   },
   "outputs": [],
   "source": []
  }
 ],
 "metadata": {
  "kernelspec": {
   "display_name": "Python [Root]",
   "language": "python",
   "name": "Python [Root]"
  },
  "language_info": {
   "codemirror_mode": {
    "name": "ipython",
    "version": 2
   },
   "file_extension": ".py",
   "mimetype": "text/x-python",
   "name": "python",
   "nbconvert_exporter": "python",
   "pygments_lexer": "ipython2",
   "version": "2.7.12"
  }
 },
 "nbformat": 4,
 "nbformat_minor": 0
}
