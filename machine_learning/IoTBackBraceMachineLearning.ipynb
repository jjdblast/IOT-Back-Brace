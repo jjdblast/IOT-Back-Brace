{
 "cells": [
  {
   "cell_type": "markdown",
   "metadata": {},
   "source": [
    "# Training the IoT Back Brace Machine Learning Model\n",
    "## Creating a Random Forest classification model using Spark and MLLib"
   ]
  },
  {
   "cell_type": "code",
   "execution_count": 1,
   "metadata": {
    "collapsed": false
   },
   "outputs": [],
   "source": [
    "import pyspark\n",
    "from pyspark import SparkContext\n",
    "import urllib\n",
    "from pyspark.mllib.regression import LabeledPoint\n",
    "from numpy import array\n",
    "from pyspark.mllib.tree import RandomForest, RandomForestModel\n",
    "from pyspark.sql import SQLContext\n",
    "from time import time\n",
    "#  Custom imports\n",
    "import MySQLConnection\n"
   ]
  },
  {
   "cell_type": "markdown",
   "metadata": {},
   "source": [
    "## Getting the training data and creating the RDD\n",
    "The data is stored in a local MySQL database.  A connection is made and data is read from the \"SensorTrainingReadings\" table."
   ]
  },
  {
   "cell_type": "code",
   "execution_count": 2,
   "metadata": {
    "collapsed": false
   },
   "outputs": [
    {
     "name": "stdout",
     "output_type": "stream",
     "text": [
      "Train data size is 34\n"
     ]
    }
   ],
   "source": [
    "sqlContext = SQLContext(sc)\n",
    "#  Get username and password from file in this format: {\"user\":\"yourusername\",\"password\":\"yourpassword\"}\n",
    "connectionProperties = MySQLConnection.getDBConnectionProps('/home/erik/mysql_credentials.txt')\n",
    "# Get training data from the database...biosensor database and SensorTrainingReadings table\n",
    "data = sqlContext.read.jdbc(\"jdbc:mysql://localhost/biosensor\", \"SensorTrainingReadings\", properties=connectionProperties).selectExpr(\"deviceID\",\"metricTypeID\",\"uomID\",\"positionID\",\"actualPitch\")\n",
    "print \"Train data size is {}\".format(data.count())"
   ]
  },
  {
   "cell_type": "markdown",
   "metadata": {},
   "source": [
    "## Split training data into training set and test set\n",
    "In order to evaluate the model, we need to hold back some data.  In this case 30% hold-back should be good.\n"
   ]
  },
  {
   "cell_type": "code",
   "execution_count": 12,
   "metadata": {
    "collapsed": false
   },
   "outputs": [
    {
     "name": "stdout",
     "output_type": "stream",
     "text": [
      "+--------------+------------+-----+----------+-----------+---------+\n",
      "|      deviceID|metricTypeID|uomID|positionID|actualPitch|actualYaw|\n",
      "+--------------+------------+-----+----------+-----------+---------+\n",
      "|ac423eb65d4a32|           6|    4|         0|       42.1|    -13.7|\n",
      "|ac423eb65d4a32|           6|    4|         0|       43.5|    -41.1|\n",
      "|ac423eb65d4a32|           6|    4|         0|       44.5|    -40.2|\n",
      "|ac423eb65d4a32|           6|    4|         0|       46.2|    -40.9|\n",
      "|ac423eb65d4a32|           6|    4|         0|       46.9|    -41.3|\n",
      "|ac423eb65d4a32|           6|    4|         0|       47.6|    -42.3|\n",
      "|ac423eb65d4a32|           6|    4|         0|       47.6|    -41.6|\n",
      "|ac423eb65d4a32|           6|    4|         0|       48.8|    -40.6|\n",
      "|ac423eb65d4a32|           6|    4|         1|       18.8|    -35.1|\n",
      "|ac423eb65d4a32|           6|    4|         1|       18.9|    -32.8|\n",
      "|ac423eb65d4a32|           6|    4|         1|       19.0|    -33.6|\n",
      "|ac423eb65d4a32|           6|    4|         1|       20.5|    -34.4|\n",
      "|ac423eb65d4a32|           6|    4|         1|       21.9|    -35.1|\n",
      "|ac423eb65d4a32|           6|    4|         1|       24.4|    -35.6|\n",
      "|ac423eb65d4a32|           6|    4|         1|       30.9|    -18.9|\n",
      "|ac423eb65d4a32|           6|    4|         1|       31.7|    -38.1|\n",
      "|ac423eb65d4a32|           6|    4|         1|       32.3|    -42.1|\n",
      "|ac423eb65d4a32|           6|    4|         1|       37.8|      8.3|\n",
      "|ac423eb65d4a32|           6|    4|         2|       -2.8|      1.7|\n",
      "|ac423eb65d4a32|           6|    4|         2|       -2.1|     10.7|\n",
      "+--------------+------------+-----+----------+-----------+---------+\n",
      "only showing top 20 rows\n",
      "\n",
      "+--------------+------------+-----+----------+-----------+---------+\n",
      "|      deviceID|metricTypeID|uomID|positionID|actualPitch|actualYaw|\n",
      "+--------------+------------+-----+----------+-----------+---------+\n",
      "|ac423eb65d4a32|           6|    4|         2|      -10.5|      6.4|\n",
      "|ac423eb65d4a32|           6|    4|         2|        7.3|     11.7|\n",
      "|ac423eb65d4a32|           6|    4|         2|       13.7|     13.3|\n",
      "|ac423eb65d4a32|           6|    4|         2|       13.9|     12.7|\n",
      "|ac423eb65d4a32|           6|    4|         2|       18.8|     12.8|\n",
      "+--------------+------------+-----+----------+-----------+---------+\n",
      "\n"
     ]
    }
   ],
   "source": [
    "# Split data into training and test dataasets\n",
    "(trainingDataTable, testDataTable) = data.randomSplit([0.9, 0.1])\n",
    "\n",
    "trainingDataTable.show()\n",
    "testDataTable.show()\n"
   ]
  },
  {
   "cell_type": "markdown",
   "metadata": {},
   "source": [
    "## Create an RDD of LabeledPoints\n",
    "The featurize method returns a LabeledPoint with the label and an vector array of features.  \n",
    "\n",
    "An example for a reading from the stooped position would be:\n",
    "*  0, [-40,15]"
   ]
  },
  {
   "cell_type": "code",
   "execution_count": 13,
   "metadata": {
    "collapsed": false
   },
   "outputs": [],
   "source": [
    "# The model requires labeldPoints which is a row with label and a vector of features.\n",
    "def featurize(t):\n",
    "\treturn LabeledPoint(t.positionID, [t.actualPitch])\n",
    "\n",
    "trainingData = trainingDataTable.map(featurize)"
   ]
  },
  {
   "cell_type": "markdown",
   "metadata": {},
   "source": [
    "## Training the model\n",
    "For this example we are choosing a Random Forest model wich is multiple decision trees averaged together.  In this case since we know there will only be 3 distinct values of \"labels\", numClasses = 3. "
   ]
  },
  {
   "cell_type": "code",
   "execution_count": 14,
   "metadata": {
    "collapsed": false
   },
   "outputs": [
    {
     "name": "stdout",
     "output_type": "stream",
     "text": [
      "Classifier trained in 0.959 seconds\n"
     ]
    }
   ],
   "source": [
    "# Train the classifier/Build the model\n",
    "startTime = time()\n",
    "\n",
    "#Random Forest Model\n",
    "model = RandomForest.trainClassifier(\n",
    "                                    trainingData, \n",
    "                                    numClasses=3, \n",
    "                                    categoricalFeaturesInfo={},\n",
    "                                    numTrees=6, \n",
    "                                    featureSubsetStrategy=\"auto\",\n",
    "                                    impurity='gini', \n",
    "                                    maxDepth=4, \n",
    "                                    maxBins=32\n",
    "                                    )\n",
    "\n",
    "elapsedTime = time() - startTime\n",
    "\n",
    "print \"Classifier trained in {} seconds\".format(round(elapsedTime,3))\n",
    "\n",
    "# Save the madel for use in evaluating readings\n",
    "model.save(sc,\"models/IoTBackBraceRandomForest.model\")"
   ]
  },
  {
   "cell_type": "markdown",
   "metadata": {},
   "source": [
    "## Evaluating the accuracy of the model\n",
    "Since we use 70% of the training data for actually training the model, we have the remaining 30% that we can use as a test dataset.  Since these values are still known, we can see if the model does a good job of classifying. "
   ]
  },
  {
   "cell_type": "code",
   "execution_count": 15,
   "metadata": {
    "collapsed": false
   },
   "outputs": [
    {
     "name": "stdout",
     "output_type": "stream",
     "text": [
      "Test Error = 0.2\n"
     ]
    }
   ],
   "source": [
    "# Evaluate model on test instances and compute test error\n",
    "testData = testDataTable.map(featurize)\n",
    "predictions = model.predict(testData.map(lambda x: x.features))\n",
    "labelsAndPredictions = testData.map(lambda lp: lp.label).zip(predictions)\n",
    "testErr = labelsAndPredictions.filter(lambda (v, p): v != p).count() / float(testData.count())\n",
    "print('Test Error = ' + str(testErr))"
   ]
  },
  {
   "cell_type": "markdown",
   "metadata": {},
   "source": [
    "Another handy feature is that you can view the model logic tree by using the \"toDebugString()\" method"
   ]
  },
  {
   "cell_type": "code",
   "execution_count": 16,
   "metadata": {
    "collapsed": false
   },
   "outputs": [
    {
     "name": "stdout",
     "output_type": "stream",
     "text": [
      "Random Forest Classifcation Model:\n",
      "TreeEnsembleModel classifier with 6 trees\n",
      "\n",
      "  Tree 0:\n",
      "    If (feature 0 <= 16.9)\n",
      "     Predict: 2.0\n",
      "    Else (feature 0 > 16.9)\n",
      "     If (feature 0 <= 37.8)\n",
      "      Predict: 1.0\n",
      "     Else (feature 0 > 37.8)\n",
      "      Predict: 0.0\n",
      "  Tree 1:\n",
      "    If (feature 0 <= 31.7)\n",
      "     If (feature 0 <= 16.9)\n",
      "      Predict: 2.0\n",
      "     Else (feature 0 > 16.9)\n",
      "      Predict: 1.0\n",
      "    Else (feature 0 > 31.7)\n",
      "     Predict: 0.0\n",
      "  Tree 2:\n",
      "    If (feature 0 <= 16.9)\n",
      "     Predict: 2.0\n",
      "    Else (feature 0 > 16.9)\n",
      "     If (feature 0 <= 37.8)\n",
      "      Predict: 1.0\n",
      "     Else (feature 0 > 37.8)\n",
      "      Predict: 0.0\n",
      "  Tree 3:\n",
      "    If (feature 0 <= 16.9)\n",
      "     Predict: 2.0\n",
      "    Else (feature 0 > 16.9)\n",
      "     If (feature 0 <= 37.8)\n",
      "      Predict: 1.0\n",
      "     Else (feature 0 > 37.8)\n",
      "      Predict: 0.0\n",
      "  Tree 4:\n",
      "    If (feature 0 <= 16.9)\n",
      "     Predict: 2.0\n",
      "    Else (feature 0 > 16.9)\n",
      "     If (feature 0 <= 37.8)\n",
      "      Predict: 1.0\n",
      "     Else (feature 0 > 37.8)\n",
      "      Predict: 0.0\n",
      "  Tree 5:\n",
      "    If (feature 0 <= 37.8)\n",
      "     If (feature 0 <= 16.9)\n",
      "      Predict: 2.0\n",
      "     Else (feature 0 > 16.9)\n",
      "      Predict: 1.0\n",
      "    Else (feature 0 > 37.8)\n",
      "     Predict: 0.0\n",
      "\n"
     ]
    }
   ],
   "source": [
    "print('Random Forest Classifcation Model:')\n",
    "print(model.toDebugString())"
   ]
  },
  {
   "cell_type": "markdown",
   "metadata": {},
   "source": [
    "## Using the model for analysis of raw data\n",
    "Once the model is saved, it can be loaded again in any script by referring to the path where it was saved."
   ]
  },
  {
   "cell_type": "code",
   "execution_count": 17,
   "metadata": {
    "collapsed": false
   },
   "outputs": [],
   "source": [
    "loadedModel = RandomForestModel.load(sc, \"models/IoTBackBraceRandomForest.model\")"
   ]
  },
  {
   "cell_type": "markdown",
   "metadata": {},
   "source": [
    "The example below passes a value to the model from a range of -50 degrees (stooped) to +10 degrees (standing)."
   ]
  },
  {
   "cell_type": "code",
   "execution_count": 18,
   "metadata": {
    "collapsed": false
   },
   "outputs": [
    {
     "name": "stdout",
     "output_type": "stream",
     "text": [
      "-50 => stooped\n",
      "-49 => stooped\n",
      "-48 => stooped\n",
      "-47 => stooped\n",
      "-46 => stooped\n",
      "-45 => stooped\n",
      "-44 => stooped\n",
      "-43 => stooped\n",
      "-42 => stooped\n",
      "-41 => stooped\n",
      "-40 => stooped\n",
      "-39 => stooped\n",
      "-38 => stooped\n",
      "-37 => stooped\n",
      "-36 => stooped\n",
      "-35 => stooped\n",
      "-34 => stooped\n",
      "-33 => stooped\n",
      "-32 => stooped\n",
      "-31 => stooped\n",
      "-30 => stooped\n",
      "-29 => stooped\n",
      "-28 => stooped\n",
      "-27 => stooped\n",
      "-26 => stooped\n",
      "-25 => stooped\n",
      "-24 => stooped\n",
      "-23 => stooped\n",
      "-22 => stooped\n",
      "-21 => stooped\n",
      "-20 => stooped\n",
      "-19 => stooped\n",
      "-18 => stooped\n",
      "-17 => stooped\n",
      "-16 => stooped\n",
      "-15 => stooped\n",
      "-14 => stooped\n",
      "-13 => stooped\n",
      "-12 => stooped\n",
      "-11 => stooped\n",
      "-10 => stooped\n",
      "-9 => stooped\n",
      "-8 => stooped\n",
      "-7 => stooped\n",
      "-6 => stooped\n",
      "-5 => stooped\n",
      "-4 => stooped\n",
      "-3 => stooped\n",
      "-2 => stooped\n",
      "-1 => stooped\n",
      "0 => stooped\n",
      "1 => stooped\n",
      "2 => stooped\n",
      "3 => stooped\n",
      "4 => stooped\n",
      "5 => stooped\n",
      "6 => stooped\n",
      "7 => stooped\n",
      "8 => stooped\n",
      "9 => stooped\n",
      "10 => stooped\n",
      "11 => stooped\n",
      "12 => stooped\n",
      "13 => stooped\n",
      "14 => stooped\n",
      "15 => stooped\n",
      "16 => stooped\n",
      "17 => back bent\n",
      "18 => back bent\n",
      "19 => back bent\n",
      "20 => back bent\n",
      "21 => back bent\n",
      "22 => back bent\n",
      "23 => back bent\n",
      "24 => back bent\n",
      "25 => back bent\n",
      "26 => back bent\n",
      "27 => back bent\n",
      "28 => back bent\n",
      "29 => back bent\n",
      "30 => back bent\n",
      "31 => back bent\n",
      "32 => back bent\n",
      "33 => back bent\n",
      "34 => back bent\n",
      "35 => back bent\n",
      "36 => back bent\n",
      "37 => back bent\n",
      "38 => upright\n",
      "39 => upright\n",
      "40 => upright\n",
      "41 => upright\n",
      "42 => upright\n",
      "43 => upright\n",
      "44 => upright\n",
      "45 => upright\n",
      "46 => upright\n",
      "47 => upright\n",
      "48 => upright\n",
      "49 => upright\n"
     ]
    }
   ],
   "source": [
    "for i in range(-50,50):\n",
    "    prediction = loadedModel.predict([i])\n",
    "    positions = {\n",
    "                  0 : \"upright\",\n",
    "                  1 : \"back bent\",\n",
    "                  2 : \"stooped\"\n",
    "                }\n",
    "    print str(i) + \" => \" + str(positions[prediction])"
   ]
  },
  {
   "cell_type": "code",
   "execution_count": null,
   "metadata": {
    "collapsed": true
   },
   "outputs": [],
   "source": []
  }
 ],
 "metadata": {
  "kernelspec": {
   "display_name": "Python [Root]",
   "language": "python",
   "name": "Python [Root]"
  },
  "language_info": {
   "codemirror_mode": {
    "name": "ipython",
    "version": 2
   },
   "file_extension": ".py",
   "mimetype": "text/x-python",
   "name": "python",
   "nbconvert_exporter": "python",
   "pygments_lexer": "ipython2",
   "version": "2.7.12"
  }
 },
 "nbformat": 4,
 "nbformat_minor": 0
}
