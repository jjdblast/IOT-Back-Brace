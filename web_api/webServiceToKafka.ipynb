{
 "cells": [
  {
   "cell_type": "markdown",
   "metadata": {},
   "source": [
    "#  REST API for IoT Back Brace - WebServiceToKafka.py\n",
    "## This script creates a Flask web api running on port 5000 that listens for post requests from the IoT Back Brace.\n",
    "\n",
    "Once the post is received, a Kafka message is created that will be subsequently injested by a Spark Streaming job."
   ]
  },
  {
   "cell_type": "code",
   "execution_count": 1,
   "metadata": {
    "collapsed": true
   },
   "outputs": [],
   "source": [
    "from flask import Flask, Response, request, json, render_template\n",
    "from kafka import KafkaProducer\n",
    "import uuid\n",
    "import datetime\n",
    "\n",
    "app = Flask(__name__)\n",
    "\n",
    "producer = KafkaProducer(bootstrap_servers='localhost:9092')"
   ]
  },
  {
   "cell_type": "markdown",
   "metadata": {},
   "source": [
    "The default end point is simply there to \"document\" the API if the root endpoint of the API is called with a get method.  This will show the JSON objects expected by the post methods."
   ]
  },
  {
   "cell_type": "code",
   "execution_count": 2,
   "metadata": {
    "collapsed": true
   },
   "outputs": [],
   "source": [
    "# Default end point\n",
    "@app.route('/', methods = ['GET'])\n",
    "def api_root():\n",
    "\tdata = {\n",
    "\t\t\"title\":\"IOT Back Brace REST API\",\n",
    "\t\t\"sensorReading\":{\n",
    "\t\t\t\t\t\"deviceID\":\"5d681c54e66ff4a5654e55c6d5a5b54\",\n",
    "\t\t\t\t\t\"metricTypeID\":6,\n",
    "\t\t\t\t\t\"uomID\":4,\n",
    "\t\t\t\t\t\"actual\":{\"y\":18,\"p\":17.50,\"r\":120},\n",
    "\t\t\t\t\t\"setPoints\":{\"y\":25,\"p\":45,\"r\":10}\n",
    "\t\t\t\t },\n",
    "\t\t\"trainingReading\":{\n",
    "\t\t\t\t\t\"deviceID\":\"5d681c54e66ff4a5654e55c6d5a5b54\",\n",
    "\t\t\t\t\t\"metricTypeID\":6,\n",
    "\t\t\t\t\t\"uomID\":4,\n",
    "\t\t\t\t\t\"currentPostureID\":2,\n",
    "\t\t\t\t\t\"actual\":{\"y\":18,\"p\":17.50,\"r\":120},\n",
    "\t\t\t\t\t\"setPoints\":{\"y\":25,\"p\":45,\"r\":100}\n",
    "\t\t\t\t }\n",
    "\t}\n",
    "\t\n",
    "\ttry:\n",
    "\t\tprint(request.headers)\n",
    "\t\treturn render_template(\"index.html\", data = data )\n",
    "\texcept Exception, e:\n",
    "\t\treturn str(e)"
   ]
  },
  {
   "cell_type": "markdown",
   "metadata": {},
   "source": [
    "The /LumbarSensorReading endpoint expects a POST method with a JSON object in the data payload.  A unique reading identifier and the current time attributes are generated and added to the JSON packet before sending.\n",
    "\n",
    "The JSON packet is then sent to Kafka using the \"LumbarSensorReadings\" topic."
   ]
  },
  {
   "cell_type": "code",
   "execution_count": 3,
   "metadata": {
    "collapsed": true
   },
   "outputs": [],
   "source": [
    "#  End point for posting sensor readings.\n",
    "@app.route('/LumbarSensorReading',  methods = ['POST'])\n",
    "def post_readings():\n",
    "\tif request.headers['Content-Type'] == 'application/json':\n",
    "\t\t\n",
    "\t\t# Create readingTime\n",
    "\t\treadingTime = datetime.datetime.now().isoformat()\n",
    "\t\t\n",
    "\t\t# Create readingID\n",
    "\t\treadingID = str(uuid.uuid4())\n",
    "\t\t\n",
    "\t\t# Add these to json object\n",
    "\t\trequest.json['readingTime'] = readingTime\n",
    "\t\trequest.json['readingID'] = readingID\n",
    "\t\t\n",
    "\t\t# Send to Kafka producer\n",
    "\t\tproducer.send('LumbarSensorReadings', json.dumps(request.json))\n",
    "\t\treturn \"JSON Message: \" + json.dumps(request.json)\n",
    "\telse:\n",
    "\t\treturn \"415 Unsupported Media Type\""
   ]
  },
  {
   "cell_type": "markdown",
   "metadata": {},
   "source": [
    "The /LumbarSensorTraining endpoint expects a POST method with a JSON object in the data payload.  A unique reading identifier and the current time attributes are generated and added to the JSON packet before sending.\n",
    "\n",
    "The JSON packet is then sent to Kafka using the \"LumbarSensorTraining\" topic."
   ]
  },
  {
   "cell_type": "code",
   "execution_count": 4,
   "metadata": {
    "collapsed": true
   },
   "outputs": [],
   "source": [
    "# End point for training the Machine Learning Model\n",
    "@app.route('/LumbarSensorTraining',  methods = ['POST'])\n",
    "def post_trainingData():\n",
    "\tif request.headers['Content-Type'] == 'application/json':\n",
    "\t\n",
    "\t\t# Create readingTime\n",
    "\t\treadingTime = datetime.datetime.now().isoformat()\n",
    "\t\t\n",
    "\t\t# Create readingID\n",
    "\t\treadingID = str(uuid.uuid4())\n",
    "\t\t\n",
    "\t\t# Add these to json object\n",
    "\t\trequest.json['readingTime'] = readingTime\n",
    "\t\trequest.json['readingID'] = readingID\n",
    "\t\t\n",
    "\t\t# Send to Kafka producer\n",
    "\t\tproducer.send('LumbarSensorTraining', json.dumps(request.json))\n",
    "\t\tprint(request.headers)\n",
    "\n",
    "\t\treturn \"JSON Message: \" + json.dumps(request.json)\n",
    "\telse:\n",
    "\t\treturn \"415 Unsupported Media Type\""
   ]
  },
  {
   "cell_type": "code",
   "execution_count": null,
   "metadata": {
    "collapsed": true
   },
   "outputs": [],
   "source": [
    "if __name__ == '__main__':\n",
    "    app.run(host=\"0.0.0.0\",debug=1)"
   ]
  }
 ],
 "metadata": {
  "kernelspec": {
   "display_name": "Python [Root]",
   "language": "python",
   "name": "Python [Root]"
  },
  "language_info": {
   "codemirror_mode": {
    "name": "ipython",
    "version": 2
   },
   "file_extension": ".py",
   "mimetype": "text/x-python",
   "name": "python",
   "nbconvert_exporter": "python",
   "pygments_lexer": "ipython2",
   "version": "2.7.12"
  }
 },
 "nbformat": 4,
 "nbformat_minor": 0
}
