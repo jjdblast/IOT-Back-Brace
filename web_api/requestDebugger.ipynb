{
 "cells": [
  {
   "cell_type": "markdown",
   "metadata": {},
   "source": [
    "# HTTP Request Debugging Script - requestDebugger.py\n",
    "##  Shows the raw HTTP request including headers and JSON data\n",
    "This is useful for debugging issues with the IoT Back Brace device if readings are not coming through OK."
   ]
  },
  {
   "cell_type": "code",
   "execution_count": null,
   "metadata": {
    "collapsed": true
   },
   "outputs": [],
   "source": [
    "import socket\n",
    "\n",
    "host = ''\n",
    "port = 5000\n",
    "backlog = 5\n",
    "size = 1024\n",
    "s = socket.socket(socket.AF_INET, socket.SOCK_STREAM)\n",
    "s.bind((host, port))\n",
    "s.listen(backlog)\n",
    "while 1:\n",
    "\tclient, address = s.accept()\n",
    "\tdata = client.recv(size)\n",
    "\tif data:\n",
    "\t\tprint(data)\n",
    "\t\tprint(len(data))\n",
    "\tclient.close()"
   ]
  },
  {
   "cell_type": "code",
   "execution_count": null,
   "metadata": {
    "collapsed": true
   },
   "outputs": [],
   "source": []
  }
 ],
 "metadata": {
  "kernelspec": {
   "display_name": "Python [Root]",
   "language": "python",
   "name": "Python [Root]"
  },
  "language_info": {
   "codemirror_mode": {
    "name": "ipython",
    "version": 2
   },
   "file_extension": ".py",
   "mimetype": "text/x-python",
   "name": "python",
   "nbconvert_exporter": "python",
   "pygments_lexer": "ipython2",
   "version": "2.7.12"
  }
 },
 "nbformat": 4,
 "nbformat_minor": 0
}
