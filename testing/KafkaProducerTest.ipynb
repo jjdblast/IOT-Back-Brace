{
 "cells": [
  {
   "cell_type": "markdown",
   "metadata": {},
   "source": [
    "# Kafka Producer Test Script\n",
    "## Creates mock readings for testing the back end processing if an IoTBB device is not available.\n",
    "\n",
    "This script allows you to test out the functionality of the Spark Streaming and machine learing components of the project."
   ]
  },
  {
   "cell_type": "code",
   "execution_count": 1,
   "metadata": {
    "collapsed": true
   },
   "outputs": [],
   "source": [
    "import time\n",
    "from kafka import KafkaProducer\n",
    "import json\n",
    "import random\n",
    "import csv\n",
    "import uuid\n",
    "import datetime\n",
    "\"\"\"\n",
    "Usage:  bin/spark-submit ~/spark/kafkaProducrerTest.py\n",
    "\"\"\"\n",
    "producer = KafkaProducer(bootstrap_servers='localhost:9092')\n",
    "pitch = 0\n",
    "position = 0"
   ]
  },
  {
   "cell_type": "markdown",
   "metadata": {},
   "source": [
    "The \"getRandomPitch\" method will generate a mock \"reading\" between a min and max range.  The position can be arbitrarily defined or if you want to be very accurate, the debug output of the machine learning model can be used here."
   ]
  },
  {
   "cell_type": "code",
   "execution_count": 2,
   "metadata": {
    "collapsed": true
   },
   "outputs": [],
   "source": [
    "def getRandomPitch(min,max):\n",
    "    pitch = random.uniform(min,max)\n",
    "    if pitch < -25:\n",
    "        position=2\n",
    "    elif pitch < -15:\n",
    "        position=1\n",
    "    else:\n",
    "        position=0\n",
    "    return pitch, position"
   ]
  },
  {
   "cell_type": "markdown",
   "metadata": {},
   "source": [
    "The \"sendSensorReadings\" method creates mock \"actual\" readings.  A random reading is generated and a JSON packet is created and sent to Kafka using the \"LumbarSensorReadings\" topic."
   ]
  },
  {
   "cell_type": "code",
   "execution_count": 3,
   "metadata": {
    "collapsed": true
   },
   "outputs": [],
   "source": [
    "def sendSensorReadings(iterations):\n",
    "\tfor i in range(iterations):\n",
    "\t\treadingID = str(uuid.uuid4())\n",
    "                pitch, position = getRandomPitch(-50,25)\n",
    "                if pitch <= -15:\n",
    "                        if pitch <= -25:\n",
    "                                position = 2.0\n",
    "                        elif pitch > -25:\n",
    "                                if pitch <= -15:\n",
    "                                        position = 1.0\n",
    "\t\tpacket = {\n",
    "\t\t\t\t\"readingID\":readingID,\n",
    "\t\t\t\t\"deviceID\":\"5d681c54e66ff4a5654e55c6d5a5b54\",\n",
    "\t\t\t\t\"readingTime\":datetime.datetime.now().isoformat(),\n",
    "\t\t\t\t\"metricTypeID\":6,\n",
    "\t\t\t\t\"uomID\":4,\n",
    "\t\t\t\t\"actual\":{\"y\":-30,\"p\":pitch,\"r\":120},\n",
    "\t\t\t\t\"setPoints\":{\"y\":25,\"p\":45,\"r\":100},\n",
    "\t\t\t\t\"prevAvg\":{\"y\":15,\"p\":40,\"r\":88}\n",
    "\t\t\t }\n",
    "\t\tprint(packet) \n",
    "\t\tproducer.send('LumbarSensorReadings', json.dumps(packet))"
   ]
  },
  {
   "cell_type": "markdown",
   "metadata": {},
   "source": [
    "The \"sendSensorTrainingReadings\" method creates mock Training readings that are subesquently used in the machine learning model generation.  A random reading is generated with a known posture and a JSON packet is created and sent to Kafka using the \"LumbarSensorTrainingReadings\" topic. "
   ]
  },
  {
   "cell_type": "code",
   "execution_count": 4,
   "metadata": {
    "collapsed": true
   },
   "outputs": [],
   "source": [
    "def sendSensorTrainingReadings(iterations):\n",
    "\t\n",
    "\tfor i in range(iterations): \n",
    "\t\tpitch, position = getRandomPitch(-50,25)\n",
    "\t\tif pitch <= -15:\n",
    "\t\t\tif pitch <= -25:\n",
    "\t\t\t\tposition = 2.0\n",
    "\t\t\telif pitch > -25:\n",
    "\t\t\t\tif pitch <= -15:\n",
    "\t\t\t\t\tposition = 1.0\n",
    "\t\tpacket = {\n",
    "\t\t\t\t\t\"deviceID\":\"5d681c54e66ff4a5654e55c6d5a5b54\",\n",
    "\t\t\t\t\t\"positionID\":position,\n",
    "\t\t\t\t\t\"readingTime\":\"2016-07-25T15:45:07.12\",\n",
    "\t\t\t\t\t\"metricTypeID\":6,\n",
    "\t\t\t\t\t\"uomID\":4,\n",
    "\t\t\t\t\t\"actual\":{\"y\":18,\"p\":pitch,\"r\":120},\n",
    "\t\t\t\t\t\"setPoints\":{\"y\":25,\"p\":45,\"r\":100},\n",
    "\t\t\t\t\t\"prevAvg\":{\"y\":15,\"p\":40,\"r\":88}\n",
    "\t\t\t\t }\n",
    "\t\tproducer.send('LumbarSensorTrainingReadings', json.dumps(packet))"
   ]
  },
  {
   "cell_type": "markdown",
   "metadata": {},
   "source": [
    "The main method calls the methods with a defined number of iterations."
   ]
  },
  {
   "cell_type": "code",
   "execution_count": null,
   "metadata": {
    "collapsed": true
   },
   "outputs": [],
   "source": [
    "def main():\n",
    "\tsendSensorReadings(50)\n",
    "\tsendSensorTrainingReadings(50)\n",
    "\n",
    "\n",
    "if __name__ == \"__main__\":\n",
    "    main()"
   ]
  }
 ],
 "metadata": {
  "kernelspec": {
   "display_name": "Python [Root]",
   "language": "python",
   "name": "Python [Root]"
  },
  "language_info": {
   "codemirror_mode": {
    "name": "ipython",
    "version": 2
   },
   "file_extension": ".py",
   "mimetype": "text/x-python",
   "name": "python",
   "nbconvert_exporter": "python",
   "pygments_lexer": "ipython2",
   "version": "2.7.12"
  }
 },
 "nbformat": 4,
 "nbformat_minor": 0
}
